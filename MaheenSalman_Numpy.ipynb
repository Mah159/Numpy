{
  "nbformat": 4,
  "nbformat_minor": 0,
  "metadata": {
    "colab": {
      "provenance": []
    },
    "kernelspec": {
      "name": "python3",
      "display_name": "Python 3"
    },
    "language_info": {
      "name": "python"
    }
  },
  "cells": [
    {
      "cell_type": "markdown",
      "source": [
        "1. Create a numpy array of size 10, filled with zeros"
      ],
      "metadata": {
        "id": "eVHeccGAq44h"
      }
    },
    {
      "cell_type": "code",
      "source": [
        "import numpy as np\n",
        "\n",
        "zeros_array = np.zeros(10)\n",
        "print(zeros_array)\n"
      ],
      "metadata": {
        "colab": {
          "base_uri": "https://localhost:8080/"
        },
        "id": "RePC5_IAq7Qi",
        "outputId": "96c618e1-4085-4808-f395-f5de76e6cfd4"
      },
      "execution_count": 1,
      "outputs": [
        {
          "output_type": "stream",
          "name": "stdout",
          "text": [
            "[0. 0. 0. 0. 0. 0. 0. 0. 0. 0.]\n"
          ]
        }
      ]
    },
    {
      "cell_type": "markdown",
      "source": [
        "2. Create a numpy array with values ranging from 10 to 49"
      ],
      "metadata": {
        "id": "UlyOUXHtrIyv"
      }
    },
    {
      "cell_type": "code",
      "source": [
        "#once import numpy is defined as np, we dont need to define it again\n",
        "array_10_to_49 = np.arange(10, 50)\n",
        "print(array_10_to_49)\n"
      ],
      "metadata": {
        "colab": {
          "base_uri": "https://localhost:8080/"
        },
        "id": "VwKn1P2yrNCc",
        "outputId": "80cd634c-f478-4e65-f7f4-6e50377ed06f"
      },
      "execution_count": 54,
      "outputs": [
        {
          "output_type": "stream",
          "name": "stdout",
          "text": [
            "[10 11 12 13 14 15 16 17 18 19 20 21 22 23 24 25 26 27 28 29 30 31 32 33\n",
            " 34 35 36 37 38 39 40 41 42 43 44 45 46 47 48 49]\n"
          ]
        }
      ]
    },
    {
      "cell_type": "markdown",
      "source": [
        "3. Create a numpy matrix of 2*2 integers, filled with ones"
      ],
      "metadata": {
        "id": "rBOv4a0LrR4J"
      }
    },
    {
      "cell_type": "code",
      "source": [
        "ones_matrix = np.ones((2, 2), dtype=int)\n",
        "print(ones_matrix)\n"
      ],
      "metadata": {
        "colab": {
          "base_uri": "https://localhost:8080/"
        },
        "id": "j_3K956BrYg1",
        "outputId": "beb1fc08-1fbc-46c5-f34a-3a4d6d82e374"
      },
      "execution_count": 55,
      "outputs": [
        {
          "output_type": "stream",
          "name": "stdout",
          "text": [
            "[[1 1]\n",
            " [1 1]]\n"
          ]
        }
      ]
    },
    {
      "cell_type": "markdown",
      "source": [
        "4. Create a numpy matrix of 3*2 float numbers, filled with ones"
      ],
      "metadata": {
        "id": "Q4X_iRU5rh3-"
      }
    },
    {
      "cell_type": "code",
      "source": [
        "ones_float_matrix = np.ones((3, 2), dtype=float)\n",
        "print(ones_float_matrix)\n",
        "\n"
      ],
      "metadata": {
        "colab": {
          "base_uri": "https://localhost:8080/"
        },
        "id": "lQNJAMFzr5RV",
        "outputId": "e9883d7b-39c7-4891-b469-e22f78b47df5"
      },
      "execution_count": 4,
      "outputs": [
        {
          "output_type": "stream",
          "name": "stdout",
          "text": [
            "[[1. 1.]\n",
            " [1. 1.]\n",
            " [1. 1.]]\n"
          ]
        }
      ]
    },
    {
      "cell_type": "markdown",
      "source": [
        "5. Given the X numpy array, create a new numpy array with the same shape and type as X, filled with ones."
      ],
      "metadata": {
        "id": "-rMnFxvbsf73"
      }
    },
    {
      "cell_type": "code",
      "source": [
        "X = np.array([[1, 2, 3],[4, 5, 6]]) #array X is defined\n",
        "ones = np.ones_like(X) #array called ones with the same shape and type as X filled with ones is made using X array\n",
        "print(ones)\n"
      ],
      "metadata": {
        "colab": {
          "base_uri": "https://localhost:8080/"
        },
        "id": "CJqV2s6-soua",
        "outputId": "f659a757-d93c-4f6a-d27f-30f39157c610"
      },
      "execution_count": 35,
      "outputs": [
        {
          "output_type": "stream",
          "name": "stdout",
          "text": [
            "[[1 1 1]\n",
            " [1 1 1]]\n"
          ]
        }
      ]
    },
    {
      "cell_type": "markdown",
      "source": [
        "6. Given the X numpy matrix, create a new numpy matrix with the same shape and type as X, filled with zeros."
      ],
      "metadata": {
        "id": "I0RhzY6Ws5qS"
      }
    },
    {
      "cell_type": "code",
      "source": [
        "X = np.array([[1, 2], [3, 4]]) #array X is defined\n",
        "zeros = np.zeros_like(X) #matrix called ones with the same shape and type as X filled with zeros is made\n",
        "print(zeros)\n",
        "\n"
      ],
      "metadata": {
        "colab": {
          "base_uri": "https://localhost:8080/"
        },
        "id": "OcD7W0u_s8yt",
        "outputId": "fb1aa7a6-b090-4a25-fa2b-ed2c2b18c0e1"
      },
      "execution_count": 37,
      "outputs": [
        {
          "output_type": "stream",
          "name": "stdout",
          "text": [
            "[[0 0]\n",
            " [0 0]]\n"
          ]
        }
      ]
    },
    {
      "cell_type": "markdown",
      "source": [
        "7. Create a numpy matrix of 4*4 integers, filled with fives"
      ],
      "metadata": {
        "id": "HNX4uGk9yU7L"
      }
    },
    {
      "cell_type": "code",
      "source": [
        "fives = np.full((4, 4), 5, dtype=int) #a 4x4 matrix filled with fives defined\n",
        "print(fives)\n"
      ],
      "metadata": {
        "colab": {
          "base_uri": "https://localhost:8080/"
        },
        "id": "fBL8ORcZzLZN",
        "outputId": "f6807c43-829d-4656-8cb1-802006c71c77"
      },
      "execution_count": 38,
      "outputs": [
        {
          "output_type": "stream",
          "name": "stdout",
          "text": [
            "[[5 5 5 5]\n",
            " [5 5 5 5]\n",
            " [5 5 5 5]\n",
            " [5 5 5 5]]\n"
          ]
        }
      ]
    },
    {
      "cell_type": "markdown",
      "source": [
        "8. Given the X numpy matrix, create a new numpy matrix with the same shape and type as X, filled with sevens."
      ],
      "metadata": {
        "id": "kJ8qt5lm0bHA"
      }
    },
    {
      "cell_type": "code",
      "source": [
        "X = np.array([[1, 2], [3, 4]]) #array X is defined\n",
        "sevens = np.full_like(X, 7) #a matrix called with the same shape and type as X filled with sevens is made\n",
        "print(sevens)\n"
      ],
      "metadata": {
        "colab": {
          "base_uri": "https://localhost:8080/"
        },
        "id": "zZEj2AW60hsS",
        "outputId": "1595efc8-51a8-4f74-9e15-0a6aad45614e"
      },
      "execution_count": 9,
      "outputs": [
        {
          "output_type": "stream",
          "name": "stdout",
          "text": [
            "[[7 7]\n",
            " [7 7]]\n"
          ]
        }
      ]
    },
    {
      "cell_type": "markdown",
      "source": [
        "9. Create a 3*3 identity numpy matrix with ones on the diagonal and zeros elsewhere."
      ],
      "metadata": {
        "id": "GFEInSwk0pCh"
      }
    },
    {
      "cell_type": "code",
      "source": [
        "identity_matrix = np.eye(3) #a 3x3 identity matrix is made\n",
        "print(identity_matrix)\n"
      ],
      "metadata": {
        "colab": {
          "base_uri": "https://localhost:8080/"
        },
        "id": "dzgxqo5b1UqW",
        "outputId": "27ca405c-2aa6-4eaa-91b0-a56f736bd4e7"
      },
      "execution_count": 10,
      "outputs": [
        {
          "output_type": "stream",
          "name": "stdout",
          "text": [
            "[[1. 0. 0.]\n",
            " [0. 1. 0.]\n",
            " [0. 0. 1.]]\n"
          ]
        }
      ]
    },
    {
      "cell_type": "markdown",
      "source": [
        "10. Create a numpy array, filled with 3 random integer values between 1 and 10"
      ],
      "metadata": {
        "id": "dgm14cQF10V_"
      }
    },
    {
      "cell_type": "code",
      "source": [
        "random = np.random.randint(1, 11, size=3)#a NumPy array called random with 3 random integers between 1 and 10 is defined\n",
        "print(random)\n"
      ],
      "metadata": {
        "colab": {
          "base_uri": "https://localhost:8080/"
        },
        "id": "8CJlniR315h_",
        "outputId": "9fb399e9-bc34-4480-dcd4-6a7e61daeec4"
      },
      "execution_count": 39,
      "outputs": [
        {
          "output_type": "stream",
          "name": "stdout",
          "text": [
            "[5 4 5]\n"
          ]
        }
      ]
    },
    {
      "cell_type": "markdown",
      "source": [
        "11. Create a 3*3*3 numpy matrix, filled with random float values."
      ],
      "metadata": {
        "id": "nG2KDS8E2Awr"
      }
    },
    {
      "cell_type": "code",
      "source": [
        "random = np.random.rand(3, 3, 3) #a 3x3x3 matrix called random filled with random float values is made\n",
        "print(random)\n"
      ],
      "metadata": {
        "colab": {
          "base_uri": "https://localhost:8080/"
        },
        "id": "_yzS4Y5f2EpW",
        "outputId": "e0a45c72-fe0f-4c77-ff54-92bfce0e7202"
      },
      "execution_count": 40,
      "outputs": [
        {
          "output_type": "stream",
          "name": "stdout",
          "text": [
            "[[[0.39159406 0.41985724 0.81409892]\n",
            "  [0.51584913 0.88724286 0.35758392]\n",
            "  [0.7880818  0.44238044 0.41308358]]\n",
            "\n",
            " [[0.32721917 0.4161508  0.05109807]\n",
            "  [0.2881235  0.57330325 0.92759186]\n",
            "  [0.0412704  0.88014145 0.32623259]]\n",
            "\n",
            " [[0.23645305 0.53877026 0.93506525]\n",
            "  [0.32695181 0.60249266 0.42120691]\n",
            "  [0.57747802 0.84351698 0.74720144]]]\n"
          ]
        }
      ]
    },
    {
      "cell_type": "markdown",
      "source": [
        "12. Create a numpy array with numbers from 1 to 10"
      ],
      "metadata": {
        "id": "lvNj8VVv92h2"
      }
    },
    {
      "cell_type": "code",
      "source": [
        "array = np.arange(1, 11) #a NumPy array called array with numbers from 1 to 10 is defined\n",
        "print(array)\n"
      ],
      "metadata": {
        "colab": {
          "base_uri": "https://localhost:8080/"
        },
        "id": "K3y4jV0S973_",
        "outputId": "9b2dd204-e990-4a2a-de27-af702d9e1f78"
      },
      "execution_count": 41,
      "outputs": [
        {
          "output_type": "stream",
          "name": "stdout",
          "text": [
            "[ 1  2  3  4  5  6  7  8  9 10]\n"
          ]
        }
      ]
    },
    {
      "cell_type": "markdown",
      "source": [
        "13. Create a numpy array with the odd numbers between 1 to 10"
      ],
      "metadata": {
        "id": "U58Vxbih-Co3"
      }
    },
    {
      "cell_type": "code",
      "source": [
        "odd= np.arange(1, 11, 2) #a NumPy array called odd with odd numbers from 1 to 10 is defined\n",
        "print(odd)\n"
      ],
      "metadata": {
        "colab": {
          "base_uri": "https://localhost:8080/"
        },
        "id": "YpbgCeCa-GPm",
        "outputId": "e5c19d55-c393-4bb4-aa3f-93cd97d265c5"
      },
      "execution_count": 42,
      "outputs": [
        {
          "output_type": "stream",
          "name": "stdout",
          "text": [
            "[1 3 5 7 9]\n"
          ]
        }
      ]
    },
    {
      "cell_type": "markdown",
      "source": [
        "14. Create a numpy array with numbers from 1 to 10, in descending order."
      ],
      "metadata": {
        "id": "FEEmmYRk-Oqc"
      }
    },
    {
      "cell_type": "code",
      "source": [
        "desc_array = np.arange(10, 0, -1) #a NumPy array with numbers from 1 to 10 in descending order is defined\n",
        "print(desc_array)\n"
      ],
      "metadata": {
        "colab": {
          "base_uri": "https://localhost:8080/"
        },
        "id": "QqkG9d68-U3v",
        "outputId": "6e85068b-1f58-4b63-96db-6af30b6be9c6"
      },
      "execution_count": 43,
      "outputs": [
        {
          "output_type": "stream",
          "name": "stdout",
          "text": [
            "[10  9  8  7  6  5  4  3  2  1]\n"
          ]
        }
      ]
    },
    {
      "cell_type": "markdown",
      "source": [
        "15. Create a 3*3 numpy matrix, filled with values ranging from 0 to 8"
      ],
      "metadata": {
        "id": "8FPZraCI-ZDl"
      }
    },
    {
      "cell_type": "code",
      "source": [
        "matrix_3x3 = np.arange(9).reshape(3, 3) #a 3x3 numpy matrix with values ranging from 0 to 8 is made\n",
        "print(matrix_3x3)\n"
      ],
      "metadata": {
        "colab": {
          "base_uri": "https://localhost:8080/"
        },
        "id": "ombrm6P3-cp1",
        "outputId": "f21c52e7-a24f-461f-cff9-80267a335ff7"
      },
      "execution_count": 16,
      "outputs": [
        {
          "output_type": "stream",
          "name": "stdout",
          "text": [
            "[[0 1 2]\n",
            " [3 4 5]\n",
            " [6 7 8]]\n"
          ]
        }
      ]
    },
    {
      "cell_type": "markdown",
      "source": [
        "Array indexation\n",
        "1. Given the X numpy array, show it's first element"
      ],
      "metadata": {
        "id": "z4eFsQX8-oDx"
      }
    },
    {
      "cell_type": "code",
      "source": [
        "X = np.array([1, 2, 3, 4, 5]) #defining X as a numpy array\n",
        "first = X[0] #displaying the first element of the array\n",
        "print(first)\n"
      ],
      "metadata": {
        "colab": {
          "base_uri": "https://localhost:8080/"
        },
        "id": "5ym_F5FW-rKX",
        "outputId": "a821597a-0d02-4368-b2dc-09b556778c87"
      },
      "execution_count": 45,
      "outputs": [
        {
          "output_type": "stream",
          "name": "stdout",
          "text": [
            "1\n"
          ]
        }
      ]
    },
    {
      "cell_type": "markdown",
      "source": [
        "2. Given the X numpy array, show it's last element"
      ],
      "metadata": {
        "id": "pPAYyvVQ-88S"
      }
    },
    {
      "cell_type": "code",
      "source": [
        "X = np.array([1, 2, 3, 4, 5]) #defining X as a numpy array\n",
        "last = X[-1] #displaying the last element of the array\n",
        "print(last)\n"
      ],
      "metadata": {
        "colab": {
          "base_uri": "https://localhost:8080/"
        },
        "id": "fNHrtTKL_FFr",
        "outputId": "ed323595-9438-49e6-a484-049acd670c47"
      },
      "execution_count": 47,
      "outputs": [
        {
          "output_type": "stream",
          "name": "stdout",
          "text": [
            "5\n"
          ]
        }
      ]
    },
    {
      "cell_type": "markdown",
      "source": [
        "3. Given the X numpy array, show it's first three elements"
      ],
      "metadata": {
        "id": "PQZslyR-_QjL"
      }
    },
    {
      "cell_type": "code",
      "source": [
        "X = np.array([1, 2, 3, 4, 5]) #defining X as a numpy array\n",
        "three = X[:3] #displaying the first three elements of the array\n",
        "print(three)\n"
      ],
      "metadata": {
        "colab": {
          "base_uri": "https://localhost:8080/"
        },
        "id": "CpPb6lUP_TlF",
        "outputId": "6730ed7e-4975-4e01-80d0-507e973345ac"
      },
      "execution_count": 49,
      "outputs": [
        {
          "output_type": "stream",
          "name": "stdout",
          "text": [
            "[1 2 3]\n"
          ]
        }
      ]
    },
    {
      "cell_type": "markdown",
      "source": [
        "4. Given the X numpy array, show all middle elements"
      ],
      "metadata": {
        "id": "kvWc_RSJ_Y4t"
      }
    },
    {
      "cell_type": "code",
      "source": [
        "X = np.array([1, 2, 3, 4, 5]) #defining X as a numpy array\n",
        "middle= X[1:-1] #displaying all middle elements of the array\n",
        "print(middle)\n"
      ],
      "metadata": {
        "colab": {
          "base_uri": "https://localhost:8080/"
        },
        "id": "OYpbNYyC_dcv",
        "outputId": "8974089f-ada0-401b-aab2-6dcfafca504b"
      },
      "execution_count": 50,
      "outputs": [
        {
          "output_type": "stream",
          "name": "stdout",
          "text": [
            "[2 3 4]\n"
          ]
        }
      ]
    },
    {
      "cell_type": "markdown",
      "source": [
        "5. Given the X numpy array, show the elements in reverse position."
      ],
      "metadata": {
        "id": "DSJ3aI-zDNQ7"
      }
    },
    {
      "cell_type": "code",
      "source": [
        "X = np.array([1, 2, 3, 4, 5]) #defining X as a numpy array\n",
        "reverse = X[::-1] #displaying the elements in reverse position\n",
        "print(reverse)\n"
      ],
      "metadata": {
        "colab": {
          "base_uri": "https://localhost:8080/"
        },
        "id": "H55wCEx0DPte",
        "outputId": "2b295c93-e2f0-4fde-b95f-6ed2e25f4bed"
      },
      "execution_count": 51,
      "outputs": [
        {
          "output_type": "stream",
          "name": "stdout",
          "text": [
            "[5 4 3 2 1]\n"
          ]
        }
      ]
    },
    {
      "cell_type": "markdown",
      "source": [
        "6. Given the X numpy array, show the elements in an odd position."
      ],
      "metadata": {
        "id": "CzMRTOk1DWYA"
      }
    },
    {
      "cell_type": "code",
      "source": [
        "X = np.array([1, 2, 3, 4, 5]) #defining X as a numpy array\n",
        "odd = X[1::2] #displaying the elements in odd positions\n",
        "print(odd)\n"
      ],
      "metadata": {
        "colab": {
          "base_uri": "https://localhost:8080/"
        },
        "id": "KK8TvxeNDXUW",
        "outputId": "89110d24-3107-4d5a-b004-84328f9ec0bb"
      },
      "execution_count": 52,
      "outputs": [
        {
          "output_type": "stream",
          "name": "stdout",
          "text": [
            "[2 4]\n"
          ]
        }
      ]
    },
    {
      "cell_type": "markdown",
      "source": [
        "7. Given the X numpy matrix, show the first row elements."
      ],
      "metadata": {
        "id": "4hrNy41gDcss"
      }
    },
    {
      "cell_type": "code",
      "source": [
        "X = np.array([[1, 2, 3],[4, 5, 6],[7, 8, 9]]) #defining X as a numpy array\n",
        "first_row_elements = X[0] #displaying the first row elements\n",
        "print(first_row_elements)\n"
      ],
      "metadata": {
        "colab": {
          "base_uri": "https://localhost:8080/"
        },
        "id": "U6TWH0X_Dhre",
        "outputId": "8832a45b-8817-4d0b-a93f-a63d139f2428"
      },
      "execution_count": 56,
      "outputs": [
        {
          "output_type": "stream",
          "name": "stdout",
          "text": [
            "[1 2 3]\n"
          ]
        }
      ]
    },
    {
      "cell_type": "markdown",
      "source": [
        "8. Given the X numpy matrix, show the last row elements."
      ],
      "metadata": {
        "id": "ruPqq4lvDmt7"
      }
    },
    {
      "cell_type": "code",
      "source": [
        "X = np.array([[1, 2, 3],[4, 5, 6],[7, 8, 9]]) #defining X as a numpy array\n",
        "last_row_elements = X[-1] #displaying the last row elements\n",
        "print(last_row_elements)\n"
      ],
      "metadata": {
        "colab": {
          "base_uri": "https://localhost:8080/"
        },
        "id": "Ee2OTZuYDsUU",
        "outputId": "342a0bf9-549b-42fd-9cad-ea4e10c2e9f3"
      },
      "execution_count": 24,
      "outputs": [
        {
          "output_type": "stream",
          "name": "stdout",
          "text": [
            "[7 8 9]\n"
          ]
        }
      ]
    },
    {
      "cell_type": "markdown",
      "source": [
        "9. Given the X numpy matrix, show the first element on first row"
      ],
      "metadata": {
        "id": "keXDW9D4D1QP"
      }
    },
    {
      "cell_type": "code",
      "source": [
        "X = np.array([[1, 2, 3],[4, 5, 6],[7, 8, 9]]) #defining X as a numpy array\n",
        "first= X[0, 0] #displaying the first element on the first row\n",
        "print(first)\n"
      ],
      "metadata": {
        "colab": {
          "base_uri": "https://localhost:8080/"
        },
        "id": "PYRb9GlqD2H0",
        "outputId": "c525599f-ddba-4241-9ba0-5ce2c2b8f51c"
      },
      "execution_count": 57,
      "outputs": [
        {
          "output_type": "stream",
          "name": "stdout",
          "text": [
            "1\n"
          ]
        }
      ]
    },
    {
      "cell_type": "markdown",
      "source": [
        "10. Given the X numpy matrix, show the last element on last row."
      ],
      "metadata": {
        "id": "2V59hPP9D6V7"
      }
    },
    {
      "cell_type": "code",
      "source": [
        "X = np.array([[1, 2, 3],[4, 5, 6],[7, 8, 9]]) #defining X as a numpy array\n",
        "last = X[-1, -1] #display the last element on the last row\n",
        "print(last)\n"
      ],
      "metadata": {
        "colab": {
          "base_uri": "https://localhost:8080/"
        },
        "id": "4QCD6RmcD8rA",
        "outputId": "82c0ef6d-9d97-4994-cd63-58d1ebd6f3ad"
      },
      "execution_count": 58,
      "outputs": [
        {
          "output_type": "stream",
          "name": "stdout",
          "text": [
            "9\n"
          ]
        }
      ]
    },
    {
      "cell_type": "markdown",
      "source": [
        "11. Given the X numpy matrix, show the first two elements on the first two rows."
      ],
      "metadata": {
        "id": "xNlA2NnfEEQW"
      }
    },
    {
      "cell_type": "code",
      "source": [
        "X = np.array([[1, 2, 3],[4, 5, 6],[7, 8, 9]]) #defining X as a numpy array\n",
        "first_two = X[:2, :2] #displaying the first two elements on the first two rows\n",
        "print(first_two)\n"
      ],
      "metadata": {
        "colab": {
          "base_uri": "https://localhost:8080/"
        },
        "id": "wxfaQYygEH2K",
        "outputId": "5a5fb4f6-002e-4ca2-ac81-dc239323ee6b"
      },
      "execution_count": 59,
      "outputs": [
        {
          "output_type": "stream",
          "name": "stdout",
          "text": [
            "[[1 2]\n",
            " [4 5]]\n"
          ]
        }
      ]
    },
    {
      "cell_type": "markdown",
      "source": [
        "12. Given the X numpy matrix, show the last two elements on the last two rows"
      ],
      "metadata": {
        "id": "tq2TUI6tENf5"
      }
    },
    {
      "cell_type": "code",
      "source": [
        "X = np.array([[1, 2, 3],[4, 5, 6],[7, 8, 9]]) #defining X as a numpy array\n",
        "last_two = X[-2:, -2:] #displaying the last two elements on the last two rows\n",
        "print(last_two)\n"
      ],
      "metadata": {
        "colab": {
          "base_uri": "https://localhost:8080/"
        },
        "id": "fWCZl6tXEROn",
        "outputId": "740c767f-2c31-4bfd-ac8d-96bd7348c03d"
      },
      "execution_count": 60,
      "outputs": [
        {
          "output_type": "stream",
          "name": "stdout",
          "text": [
            "[[5 6]\n",
            " [8 9]]\n"
          ]
        }
      ]
    },
    {
      "cell_type": "markdown",
      "source": [
        "Array manipulation\n",
        "1. Convert the given integer numpy array to float"
      ],
      "metadata": {
        "id": "7feAOMvdEXBK"
      }
    },
    {
      "cell_type": "code",
      "source": [
        "X = np.array([[1, 2, 3],[4, 5, 6],[7, 8, 9]]) #defining X as a numpy array\n",
        "float_array = X.astype(float) #converting the integer array to float\n",
        "print(float_array)\n"
      ],
      "metadata": {
        "colab": {
          "base_uri": "https://localhost:8080/"
        },
        "id": "kRPbJFbzEZak",
        "outputId": "054fee24-1c7c-47c6-d28c-f07034c08a86"
      },
      "execution_count": 65,
      "outputs": [
        {
          "output_type": "stream",
          "name": "stdout",
          "text": [
            "[[1. 2. 3.]\n",
            " [4. 5. 6.]\n",
            " [7. 8. 9.]]\n"
          ]
        }
      ]
    },
    {
      "cell_type": "markdown",
      "source": [
        "2. Reverse the given numpy array (first element becomes last)"
      ],
      "metadata": {
        "id": "IvAwoPQEEfJz"
      }
    },
    {
      "cell_type": "code",
      "source": [
        "X = np.array([[1, 2, 3],[4, 5, 6],[7, 8, 9]]) #defining X as a numpy array\n",
        "reverse = X[::-1] #reversing the numpy array\n",
        "print(reverse)\n"
      ],
      "metadata": {
        "colab": {
          "base_uri": "https://localhost:8080/"
        },
        "id": "2CoZvFkcEkuC",
        "outputId": "afe68892-66dc-4b49-d6d4-0c194759c7db"
      },
      "execution_count": 66,
      "outputs": [
        {
          "output_type": "stream",
          "name": "stdout",
          "text": [
            "[[7 8 9]\n",
            " [4 5 6]\n",
            " [1 2 3]]\n"
          ]
        }
      ]
    },
    {
      "cell_type": "markdown",
      "source": [
        "3. Given the X numpy array, set the fifth element equal to 1"
      ],
      "metadata": {
        "id": "5nUTxFbZEqbB"
      }
    },
    {
      "cell_type": "code",
      "source": [
        "X = np.array([0, 0, 0, 0, 0, 0, 0]) #assuming X is your numpy array\n",
        "X[4] = 1 #setting the fifth element to 1\n",
        "print(X)\n"
      ],
      "metadata": {
        "colab": {
          "base_uri": "https://localhost:8080/"
        },
        "id": "UGb6cu4aEtUp",
        "outputId": "50f3d012-d4bf-4ac8-9309-208f1cd3e593"
      },
      "execution_count": 67,
      "outputs": [
        {
          "output_type": "stream",
          "name": "stdout",
          "text": [
            "[0 0 0 0 1 0 0]\n"
          ]
        }
      ]
    },
    {
      "cell_type": "markdown",
      "source": [
        "4. Given the X numpy matrix, change the last row with all 1"
      ],
      "metadata": {
        "id": "ohs0e4yqE0Ng"
      }
    },
    {
      "cell_type": "code",
      "source": [
        "X = np.array([[1, 2, 3],[4, 5, 6],[7, 8, 9]]) #defining X as a numpy array\n",
        "X[-1] = 1 #changing the last row to all ones\n",
        "print(X)\n"
      ],
      "metadata": {
        "colab": {
          "base_uri": "https://localhost:8080/"
        },
        "id": "szQnmfaTE2Px",
        "outputId": "53d9cace-eef1-4a93-efd4-d8342382703b"
      },
      "execution_count": 68,
      "outputs": [
        {
          "output_type": "stream",
          "name": "stdout",
          "text": [
            "[[1 2 3]\n",
            " [4 5 6]\n",
            " [1 1 1]]\n"
          ]
        }
      ]
    },
    {
      "cell_type": "markdown",
      "source": [
        "5. Given the X numpy matrix, add 5 to every element"
      ],
      "metadata": {
        "id": "sGOu_lZTE7UZ"
      }
    },
    {
      "cell_type": "code",
      "source": [
        "X = np.array([[1, 2, 3],[4, 5, 6],[7, 8, 9]]) #defining X as a numpy array\n",
        "X = X + 5 #adding 5 to every element\n",
        "print(X)\n"
      ],
      "metadata": {
        "colab": {
          "base_uri": "https://localhost:8080/"
        },
        "id": "nqNqhN_BFAGy",
        "outputId": "ac724049-d4f7-4d90-cb7c-9629812cb6bc"
      },
      "execution_count": 69,
      "outputs": [
        {
          "output_type": "stream",
          "name": "stdout",
          "text": [
            "[[ 6  7  8]\n",
            " [ 9 10 11]\n",
            " [12 13 14]]\n"
          ]
        }
      ]
    }
  ]
}